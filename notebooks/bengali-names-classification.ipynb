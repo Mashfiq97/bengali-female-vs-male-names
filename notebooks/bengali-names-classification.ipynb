{
 "cells": [
  {
   "cell_type": "markdown",
   "metadata": {},
   "source": [
    "## Bengali Female & Male names classification"
   ]
  },
  {
   "cell_type": "markdown",
   "metadata": {},
   "source": [
    "#### lets import the required libs"
   ]
  },
  {
   "cell_type": "code",
   "execution_count": 130,
   "metadata": {},
   "outputs": [],
   "source": [
    "import tensorflow as tf\n",
    "import numpy as np\n",
    "from matplotlib import pyplot as plt\n",
    "from tensorflow.keras.preprocessing.text import Tokenizer\n",
    "from tensorflow.keras.preprocessing.sequence import pad_sequences"
   ]
  },
  {
   "cell_type": "code",
   "execution_count": 131,
   "metadata": {},
   "outputs": [
    {
     "name": "stdout",
     "output_type": "stream",
     "text": [
      "2.2.0-rc3\n"
     ]
    }
   ],
   "source": [
    "print(tf.__version__)"
   ]
  },
  {
   "cell_type": "code",
   "execution_count": 132,
   "metadata": {},
   "outputs": [],
   "source": [
    "data_path = '../dataset/Bengali-female-vs-male-names.csv'"
   ]
  },
  {
   "cell_type": "code",
   "execution_count": 133,
   "metadata": {},
   "outputs": [],
   "source": [
    "import csv\n",
    "\n",
    "names = []\n",
    "labels = []\n",
    "total = 0"
   ]
  },
  {
   "cell_type": "markdown",
   "metadata": {},
   "source": [
    "#### read the data and separate the names and labels"
   ]
  },
  {
   "cell_type": "code",
   "execution_count": 134,
   "metadata": {},
   "outputs": [],
   "source": [
    "with open(data_path, 'r') as fp:\n",
    "    data = csv.reader(fp, delimiter=',')\n",
    "    next(data)\n",
    "    \n",
    "    for row in data:\n",
    "        names.append(row[0])\n",
    "        labels.append([int(row[1])])\n",
    "        total += 1"
   ]
  },
  {
   "cell_type": "code",
   "execution_count": 135,
   "metadata": {},
   "outputs": [
    {
     "name": "stdout",
     "output_type": "stream",
     "text": [
      "Total data found: 2030\n"
     ]
    }
   ],
   "source": [
    "print(f\"Total data found: {total}\")"
   ]
  },
  {
   "cell_type": "code",
   "execution_count": 136,
   "metadata": {},
   "outputs": [],
   "source": [
    "sequences = []\n",
    "\n",
    "char_to_idx = {}\n",
    "idx_to_char = {}"
   ]
  },
  {
   "cell_type": "code",
   "execution_count": 137,
   "metadata": {},
   "outputs": [],
   "source": [
    "idx = 1"
   ]
  },
  {
   "cell_type": "markdown",
   "metadata": {},
   "source": [
    "#### creating char to idx mapping and converting string to sequences"
   ]
  },
  {
   "cell_type": "code",
   "execution_count": 138,
   "metadata": {},
   "outputs": [],
   "source": [
    "for name in names:\n",
    "    seq = []\n",
    "    for ch in name:\n",
    "        if ch not in char_to_idx:\n",
    "            char_to_idx[ch] = idx\n",
    "            idx_to_char[idx] = ch\n",
    "            seq.append(idx)\n",
    "            idx += 1\n",
    "        else:\n",
    "            seq.append(char_to_idx[ch])\n",
    "    sequences.append(seq)"
   ]
  },
  {
   "cell_type": "code",
   "execution_count": 139,
   "metadata": {},
   "outputs": [
    {
     "data": {
      "text/plain": [
       "2030"
      ]
     },
     "execution_count": 139,
     "metadata": {},
     "output_type": "execute_result"
    }
   ],
   "source": [
    "len(sequences)"
   ]
  },
  {
   "cell_type": "code",
   "execution_count": 140,
   "metadata": {},
   "outputs": [
    {
     "data": {
      "text/plain": [
       "[1, 2, 3, 4, 5, 6, 7, 1, 8, 9, 10]"
      ]
     },
     "execution_count": 140,
     "metadata": {},
     "output_type": "execute_result"
    }
   ],
   "source": [
    "sequences[0]"
   ]
  },
  {
   "cell_type": "code",
   "execution_count": 141,
   "metadata": {},
   "outputs": [
    {
     "data": {
      "text/plain": [
       "[[1, 2, 3, 4, 5, 6, 7, 1, 8, 9, 10],\n",
       " [11, 12, 13, 11, 14, 8],\n",
       " [15, 8, 10, 16, 17],\n",
       " [4, 8, 14, 8, 14],\n",
       " [18, 19, 2, 8, 20],\n",
       " [18, 1, 17, 8, 5, 1, 8, 6, 8, 10, 8],\n",
       " [1, 8, 15, 20, 21, 19, 8],\n",
       " [18, 22, 21, 23, 8, 5, 18, 24, 21, 24, 8],\n",
       " [1, 8, 6, 8],\n",
       " [18, 20, 21, 24, 5, 4, 8, 17, 8, 14]]"
      ]
     },
     "execution_count": 141,
     "metadata": {},
     "output_type": "execute_result"
    }
   ],
   "source": [
    "sequences[:10]"
   ]
  },
  {
   "cell_type": "code",
   "execution_count": 142,
   "metadata": {},
   "outputs": [],
   "source": [
    "max_length = max([len(seq) for seq in sequences])\n",
    "padding_type = 'pre'\n",
    "trunc_type = 'pre'"
   ]
  },
  {
   "cell_type": "code",
   "execution_count": 143,
   "metadata": {},
   "outputs": [
    {
     "data": {
      "text/plain": [
       "29"
      ]
     },
     "execution_count": 143,
     "metadata": {},
     "output_type": "execute_result"
    }
   ],
   "source": [
    "max_length"
   ]
  },
  {
   "cell_type": "code",
   "execution_count": 144,
   "metadata": {},
   "outputs": [],
   "source": [
    "padded_sequences = pad_sequences(sequences, padding=padding_type, truncating=trunc_type)"
   ]
  },
  {
   "cell_type": "code",
   "execution_count": 145,
   "metadata": {},
   "outputs": [
    {
     "data": {
      "text/plain": [
       "array([[ 0,  0,  0,  0,  0,  0,  0,  0,  0,  0,  0,  0,  0,  0,  0,  0,\n",
       "         0,  0,  1,  2,  3,  4,  5,  6,  7,  1,  8,  9, 10],\n",
       "       [ 0,  0,  0,  0,  0,  0,  0,  0,  0,  0,  0,  0,  0,  0,  0,  0,\n",
       "         0,  0,  0,  0,  0,  0,  0, 11, 12, 13, 11, 14,  8],\n",
       "       [ 0,  0,  0,  0,  0,  0,  0,  0,  0,  0,  0,  0,  0,  0,  0,  0,\n",
       "         0,  0,  0,  0,  0,  0,  0,  0, 15,  8, 10, 16, 17],\n",
       "       [ 0,  0,  0,  0,  0,  0,  0,  0,  0,  0,  0,  0,  0,  0,  0,  0,\n",
       "         0,  0,  0,  0,  0,  0,  0,  0,  4,  8, 14,  8, 14],\n",
       "       [ 0,  0,  0,  0,  0,  0,  0,  0,  0,  0,  0,  0,  0,  0,  0,  0,\n",
       "         0,  0,  0,  0,  0,  0,  0,  0, 18, 19,  2,  8, 20],\n",
       "       [ 0,  0,  0,  0,  0,  0,  0,  0,  0,  0,  0,  0,  0,  0,  0,  0,\n",
       "         0,  0, 18,  1, 17,  8,  5,  1,  8,  6,  8, 10,  8],\n",
       "       [ 0,  0,  0,  0,  0,  0,  0,  0,  0,  0,  0,  0,  0,  0,  0,  0,\n",
       "         0,  0,  0,  0,  0,  0,  1,  8, 15, 20, 21, 19,  8],\n",
       "       [ 0,  0,  0,  0,  0,  0,  0,  0,  0,  0,  0,  0,  0,  0,  0,  0,\n",
       "         0,  0, 18, 22, 21, 23,  8,  5, 18, 24, 21, 24,  8],\n",
       "       [ 0,  0,  0,  0,  0,  0,  0,  0,  0,  0,  0,  0,  0,  0,  0,  0,\n",
       "         0,  0,  0,  0,  0,  0,  0,  0,  0,  1,  8,  6,  8],\n",
       "       [ 0,  0,  0,  0,  0,  0,  0,  0,  0,  0,  0,  0,  0,  0,  0,  0,\n",
       "         0,  0,  0, 18, 20, 21, 24,  5,  4,  8, 17,  8, 14]], dtype=int32)"
      ]
     },
     "execution_count": 145,
     "metadata": {},
     "output_type": "execute_result"
    }
   ],
   "source": [
    "padded_sequences[:10]"
   ]
  },
  {
   "cell_type": "code",
   "execution_count": 146,
   "metadata": {},
   "outputs": [],
   "source": [
    "train_split = 1500"
   ]
  },
  {
   "cell_type": "code",
   "execution_count": 147,
   "metadata": {},
   "outputs": [],
   "source": [
    "x_train = np.array(padded_sequences[:train_split])\n",
    "y_train = np.array(labels[:train_split])\n",
    "x_valid = np.array(padded_sequences[train_split:])\n",
    "y_valid = np.array(labels[train_split:])"
   ]
  },
  {
   "cell_type": "code",
   "execution_count": null,
   "metadata": {},
   "outputs": [],
   "source": []
  },
  {
   "cell_type": "code",
   "execution_count": 148,
   "metadata": {},
   "outputs": [],
   "source": [
    "vocab_size = len(char_to_idx) + 1 # plus 1 for out of vocabulary char\n",
    "embedding_dim = 64"
   ]
  },
  {
   "cell_type": "markdown",
   "metadata": {},
   "source": [
    "#### lets define a very simple NN for classifying the names"
   ]
  },
  {
   "cell_type": "code",
   "execution_count": 149,
   "metadata": {},
   "outputs": [],
   "source": [
    "model = tf.keras.Sequential([\n",
    "      tf.keras.layers.Embedding(vocab_size, embedding_dim, input_length=max_length),\n",
    "      tf.keras.layers.Flatten(),\n",
    "      tf.keras.layers.Dense(6, activation='relu'),\n",
    "      tf.keras.layers.Dense(1, activation='sigmoid')\n",
    "])"
   ]
  },
  {
   "cell_type": "code",
   "execution_count": 150,
   "metadata": {},
   "outputs": [
    {
     "name": "stdout",
     "output_type": "stream",
     "text": [
      "Model: \"sequential_5\"\n",
      "_________________________________________________________________\n",
      "Layer (type)                 Output Shape              Param #   \n",
      "=================================================================\n",
      "embedding_5 (Embedding)      (None, 29, 64)            4032      \n",
      "_________________________________________________________________\n",
      "flatten_5 (Flatten)          (None, 1856)              0         \n",
      "_________________________________________________________________\n",
      "dense_10 (Dense)             (None, 6)                 11142     \n",
      "_________________________________________________________________\n",
      "dense_11 (Dense)             (None, 1)                 7         \n",
      "=================================================================\n",
      "Total params: 15,181\n",
      "Trainable params: 15,181\n",
      "Non-trainable params: 0\n",
      "_________________________________________________________________\n"
     ]
    }
   ],
   "source": [
    "model.summary()"
   ]
  },
  {
   "cell_type": "code",
   "execution_count": 151,
   "metadata": {},
   "outputs": [],
   "source": [
    "model.compile(optimizer='adam', loss='binary_crossentropy', metrics=['accuracy'])"
   ]
  },
  {
   "cell_type": "code",
   "execution_count": 152,
   "metadata": {},
   "outputs": [
    {
     "name": "stdout",
     "output_type": "stream",
     "text": [
      "Epoch 1/20\n",
      "750/750 [==============================] - 1s 1ms/step - loss: 0.4123 - accuracy: 0.8200 - val_loss: 0.2838 - val_accuracy: 0.8774\n",
      "Epoch 2/20\n",
      "750/750 [==============================] - 1s 1ms/step - loss: 0.2509 - accuracy: 0.8927 - val_loss: 0.2427 - val_accuracy: 0.9075\n",
      "Epoch 3/20\n",
      "750/750 [==============================] - 1s 1ms/step - loss: 0.2129 - accuracy: 0.9153 - val_loss: 0.2540 - val_accuracy: 0.8925\n",
      "Epoch 4/20\n",
      "750/750 [==============================] - 1s 1ms/step - loss: 0.1874 - accuracy: 0.9253 - val_loss: 0.2377 - val_accuracy: 0.9000\n",
      "Epoch 5/20\n",
      "750/750 [==============================] - 1s 1ms/step - loss: 0.1635 - accuracy: 0.9340 - val_loss: 0.2420 - val_accuracy: 0.9000\n",
      "Epoch 6/20\n",
      "750/750 [==============================] - 1s 1ms/step - loss: 0.1471 - accuracy: 0.9467 - val_loss: 0.2431 - val_accuracy: 0.9075\n",
      "Epoch 7/20\n",
      "750/750 [==============================] - 1s 1ms/step - loss: 0.1338 - accuracy: 0.9500 - val_loss: 0.2503 - val_accuracy: 0.9075\n",
      "Epoch 8/20\n",
      "750/750 [==============================] - 1s 1ms/step - loss: 0.1212 - accuracy: 0.9593 - val_loss: 0.2485 - val_accuracy: 0.9094\n",
      "Epoch 9/20\n",
      "750/750 [==============================] - 1s 1ms/step - loss: 0.1086 - accuracy: 0.9640 - val_loss: 0.2698 - val_accuracy: 0.9094\n",
      "Epoch 10/20\n",
      "750/750 [==============================] - 1s 1ms/step - loss: 0.1043 - accuracy: 0.9613 - val_loss: 0.2756 - val_accuracy: 0.9132\n",
      "Epoch 11/20\n",
      "750/750 [==============================] - 1s 1ms/step - loss: 0.0959 - accuracy: 0.9673 - val_loss: 0.2958 - val_accuracy: 0.9094\n",
      "Epoch 12/20\n",
      "750/750 [==============================] - 1s 1ms/step - loss: 0.0909 - accuracy: 0.9660 - val_loss: 0.3071 - val_accuracy: 0.9151\n",
      "Epoch 13/20\n",
      "750/750 [==============================] - 1s 1ms/step - loss: 0.0822 - accuracy: 0.9713 - val_loss: 0.3211 - val_accuracy: 0.8943\n",
      "Epoch 14/20\n",
      "750/750 [==============================] - 1s 2ms/step - loss: 0.0775 - accuracy: 0.9747 - val_loss: 0.3465 - val_accuracy: 0.9000\n",
      "Epoch 15/20\n",
      "750/750 [==============================] - 1s 1ms/step - loss: 0.0693 - accuracy: 0.9753 - val_loss: 0.3511 - val_accuracy: 0.9019\n",
      "Epoch 16/20\n",
      "750/750 [==============================] - 1s 1ms/step - loss: 0.0674 - accuracy: 0.9820 - val_loss: 0.3527 - val_accuracy: 0.9057\n",
      "Epoch 17/20\n",
      "750/750 [==============================] - 1s 1ms/step - loss: 0.0612 - accuracy: 0.9800 - val_loss: 0.3529 - val_accuracy: 0.8925\n",
      "Epoch 18/20\n",
      "750/750 [==============================] - 1s 1ms/step - loss: 0.0575 - accuracy: 0.9827 - val_loss: 0.3747 - val_accuracy: 0.9075\n",
      "Epoch 19/20\n",
      "750/750 [==============================] - 1s 1ms/step - loss: 0.0524 - accuracy: 0.9867 - val_loss: 0.3839 - val_accuracy: 0.9000\n",
      "Epoch 20/20\n",
      "750/750 [==============================] - 1s 1ms/step - loss: 0.0511 - accuracy: 0.9847 - val_loss: 0.4027 - val_accuracy: 0.9075\n"
     ]
    }
   ],
   "source": [
    "hist = model.fit(x_train, y_train, epochs=20, validation_data=(x_valid, y_valid), batch_size = 2, verbose=1)"
   ]
  },
  {
   "cell_type": "code",
   "execution_count": 153,
   "metadata": {},
   "outputs": [
    {
     "name": "stdout",
     "output_type": "stream",
     "text": [
      "17/17 [==============================] - 0s 1ms/step - loss: 0.4125 - accuracy: 0.9075\n"
     ]
    },
    {
     "data": {
      "text/plain": [
       "[0.41248440742492676, 0.9075471758842468]"
      ]
     },
     "execution_count": 153,
     "metadata": {},
     "output_type": "execute_result"
    }
   ],
   "source": [
    "model.evaluate(x_valid, y_valid)"
   ]
  },
  {
   "cell_type": "code",
   "execution_count": 154,
   "metadata": {},
   "outputs": [],
   "source": [
    "def plot_graph(history, string):\n",
    "    plt.plot(history.history[string])\n",
    "    plt.plot(history.history['val_' + string])\n",
    "    plt.xlabel(string + ' vs val ' + string)\n",
    "    plt.show()"
   ]
  },
  {
   "cell_type": "code",
   "execution_count": 155,
   "metadata": {},
   "outputs": [
    {
     "data": {
      "image/png": "[encoded data removed]",
      "text/plain": [
       "<Figure size 432x288 with 1 Axes>"
      ]
     },
     "metadata": {
      "needs_background": "light"
     },
     "output_type": "display_data"
    },
    {
     "data": {
      "image/png": "[encoded data removed]",
      "text/plain": [
       "<Figure size 432x288 with 1 Axes>"
      ]
     },
     "metadata": {
      "needs_background": "light"
     },
     "output_type": "display_data"
    }
   ],
   "source": [
    "plot_graph(hist, 'accuracy')\n",
    "plot_graph(hist, 'loss')"
   ]
  },
  {
   "cell_type": "markdown",
   "metadata": {},
   "source": [
    "### TODO\n",
    "1. Use different type of networks to improve the performance\n",
    "2. Do some feature engineering to create new features/names\n",
    "3. Tune the hyperparameters to check if improvement is possible"
   ]
  },
  {
   "cell_type": "code",
   "execution_count": null,
   "metadata": {},
   "outputs": [],
   "source": []
  }
 ],
 "metadata": {
  "kernelspec": {
   "display_name": "Python 3",
   "language": "python",
   "name": "python3"
  },
  "language_info": {
   "codemirror_mode": {
    "name": "ipython",
    "version": 3
   },
   "file_extension": ".py",
   "mimetype": "text/x-python",
   "name": "python",
   "nbconvert_exporter": "python",
   "pygments_lexer": "ipython3",
   "version": "3.8.2"
  }
 },
 "nbformat": 4,
 "nbformat_minor": 4
}
